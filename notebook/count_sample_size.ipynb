{
  "cells": [
    {
      "cell_type": "code",
      "execution_count": null,
      "metadata": {
        "id": "ur8xi4C7S06n"
      },
      "outputs": [],
      "source": [
        "# Copyright 2024 NASA\n",
        "#\n",
        "# Licensed under the Apache License, Version 2.0 (the \"License\");\n",
        "# you may not use this file except in compliance with the License.\n",
        "# You may obtain a copy of the License at\n",
        "#\n",
        "#     https://www.apache.org/licenses/LICENSE-2.0\n",
        "#\n",
        "# Unless required by applicable law or agreed to in writing, software\n",
        "# distributed under the License is distributed on an \"AS IS\" BASIS,\n",
        "# WITHOUT WARRANTIES OR CONDITIONS OF ANY KIND, either express or implied.\n",
        "# See the License for the specific language governing permissions and\n",
        "# limitations under the License."
      ]
    },
    {
      "cell_type": "markdown",
      "metadata": {
        "id": "JAPoU8Sm5E6e"
      },
      "source": [
        "# Rice mapping in Bhutan with U-Net using high resolution satellite imagery\n",
        "\n",
        "### This notebook shows an example of counting the sample size from the `tfrecords`\n",
        "\n",
        "<table align=\"left\">\n",
        "  <td>\n",
        "    <a href=\"https://colab.research.google.com/github/SERVIR/servir-aces/blob/main/notebooks/count_sample_size.ipynb\">\n",
        "      <img src=\"https://cloud.google.com/ml-engine/images/colab-logo-32px.png\" alt=\"Colab logo\"> Run in Colab\n",
        "    </a>\n",
        "  </td>\n",
        "  <td>\n",
        "    <a href=\"https://github.com/SERVIR/servir-aces/blob/main/notebooks/count_sample_size.ipynb\">\n",
        "      <img src=\"https://cloud.google.com/ml-engine/images/github-logo-32px.png\" alt=\"GitHub logo\">\n",
        "      View on GitHub\n",
        "    </a>\n",
        "</table>\n",
        "</br>\n",
        "</br>\n",
        "</br>"
      ]
    },
    {
      "cell_type": "markdown",
      "metadata": {
        "id": "_Zk3R20LkKet"
      },
      "source": [
        "This notebook is also available in this github repo: https://github.com/SERVIR/servir-aces. Navigate to the `notebooks` folder."
      ]
    },
    {
      "cell_type": "markdown",
      "source": [
        "## Setup environment"
      ],
      "metadata": {
        "id": "EuQkhSxRmiIA"
      }
    },
    {
      "cell_type": "code",
      "source": [
        "!pip install servir-aces"
      ],
      "metadata": {
        "colab": {
          "base_uri": "https://localhost:8080/"
        },
        "id": "FuDztFucmhpB",
        "outputId": "ea980c6e-e949-4591-bc64-fe8055fbc4c5"
      },
      "execution_count": null,
      "outputs": [
        {
          "output_type": "stream",
          "name": "stdout",
          "text": [
            "Collecting servir-aces\n",
            "  Downloading servir_aces-0.0.6-py2.py3-none-any.whl (31 kB)\n",
            "Requirement already satisfied: numpy in /usr/local/lib/python3.10/dist-packages (from servir-aces) (1.25.2)\n",
            "Requirement already satisfied: tensorflow>=2.9.3 in /usr/local/lib/python3.10/dist-packages (from servir-aces) (2.15.0)\n",
            "Collecting apache-beam>=2.38.0 (from servir-aces)\n",
            "  Downloading apache_beam-2.55.0-cp310-cp310-manylinux_2_17_x86_64.manylinux2014_x86_64.whl (14.8 MB)\n",
            "\u001b[2K     \u001b[90m━━━━━━━━━━━━━━━━━━━━━━━━━━━━━━━━━━━━━━━━\u001b[0m \u001b[32m14.8/14.8 MB\u001b[0m \u001b[31m51.0 MB/s\u001b[0m eta \u001b[36m0:00:00\u001b[0m\n",
            "\u001b[?25hRequirement already satisfied: earthengine-api in /usr/local/lib/python3.10/dist-packages (from servir-aces) (0.1.395)\n",
            "Collecting python-dotenv>=1.0.0 (from servir-aces)\n",
            "  Downloading python_dotenv-1.0.1-py3-none-any.whl (19 kB)\n",
            "Requirement already satisfied: matplotlib in /usr/local/lib/python3.10/dist-packages (from servir-aces) (3.7.1)\n",
            "Collecting crcmod<2.0,>=1.7 (from apache-beam>=2.38.0->servir-aces)\n",
            "  Downloading crcmod-1.7.tar.gz (89 kB)\n",
            "\u001b[2K     \u001b[90m━━━━━━━━━━━━━━━━━━━━━━━━━━━━━━━━━━━━━━━━\u001b[0m \u001b[32m89.7/89.7 kB\u001b[0m \u001b[31m12.9 MB/s\u001b[0m eta \u001b[36m0:00:00\u001b[0m\n",
            "\u001b[?25h  Preparing metadata (setup.py) ... \u001b[?25l\u001b[?25hdone\n",
            "Collecting orjson<4,>=3.9.7 (from apache-beam>=2.38.0->servir-aces)\n",
            "  Downloading orjson-3.10.0-cp310-cp310-manylinux_2_17_x86_64.manylinux2014_x86_64.whl (144 kB)\n",
            "\u001b[2K     \u001b[90m━━━━━━━━━━━━━━━━━━━━━━━━━━━━━━━━━━━━━━━━\u001b[0m \u001b[32m144.8/144.8 kB\u001b[0m \u001b[31m22.0 MB/s\u001b[0m eta \u001b[36m0:00:00\u001b[0m\n",
            "\u001b[?25hCollecting dill<0.3.2,>=0.3.1.1 (from apache-beam>=2.38.0->servir-aces)\n",
            "  Downloading dill-0.3.1.1.tar.gz (151 kB)\n",
            "\u001b[2K     \u001b[90m━━━━━━━━━━━━━━━━━━━━━━━━━━━━━━━━━━━━━━━━\u001b[0m \u001b[32m152.0/152.0 kB\u001b[0m \u001b[31m23.2 MB/s\u001b[0m eta \u001b[36m0:00:00\u001b[0m\n",
            "\u001b[?25h  Preparing metadata (setup.py) ... \u001b[?25l\u001b[?25hdone\n",
            "Requirement already satisfied: cloudpickle~=2.2.1 in /usr/local/lib/python3.10/dist-packages (from apache-beam>=2.38.0->servir-aces) (2.2.1)\n",
            "Collecting fastavro<2,>=0.23.6 (from apache-beam>=2.38.0->servir-aces)\n",
            "  Downloading fastavro-1.9.4-cp310-cp310-manylinux_2_17_x86_64.manylinux2014_x86_64.whl (3.1 MB)\n",
            "\u001b[2K     \u001b[90m━━━━━━━━━━━━━━━━━━━━━━━━━━━━━━━━━━━━━━━━\u001b[0m \u001b[32m3.1/3.1 MB\u001b[0m \u001b[31m29.8 MB/s\u001b[0m eta \u001b[36m0:00:00\u001b[0m\n",
            "\u001b[?25hCollecting fasteners<1.0,>=0.3 (from apache-beam>=2.38.0->servir-aces)\n",
            "  Downloading fasteners-0.19-py3-none-any.whl (18 kB)\n",
            "Requirement already satisfied: grpcio!=1.48.0,<2,>=1.33.1 in /usr/local/lib/python3.10/dist-packages (from apache-beam>=2.38.0->servir-aces) (1.62.1)\n",
            "Collecting hdfs<3.0.0,>=2.1.0 (from apache-beam>=2.38.0->servir-aces)\n",
            "  Downloading hdfs-2.7.3.tar.gz (43 kB)\n",
            "\u001b[2K     \u001b[90m━━━━━━━━━━━━━━━━━━━━━━━━━━━━━━━━━━━━━━━━\u001b[0m \u001b[32m43.5/43.5 kB\u001b[0m \u001b[31m6.0 MB/s\u001b[0m eta \u001b[36m0:00:00\u001b[0m\n",
            "\u001b[?25h  Preparing metadata (setup.py) ... \u001b[?25l\u001b[?25hdone\n",
            "Requirement already satisfied: httplib2<0.23.0,>=0.8 in /usr/local/lib/python3.10/dist-packages (from apache-beam>=2.38.0->servir-aces) (0.22.0)\n",
            "Collecting js2py<1,>=0.74 (from apache-beam>=2.38.0->servir-aces)\n",
            "  Downloading Js2Py-0.74-py3-none-any.whl (1.0 MB)\n",
            "\u001b[2K     \u001b[90m━━━━━━━━━━━━━━━━━━━━━━━━━━━━━━━━━━━━━━━━\u001b[0m \u001b[32m1.0/1.0 MB\u001b[0m \u001b[31m73.6 MB/s\u001b[0m eta \u001b[36m0:00:00\u001b[0m\n",
            "\u001b[?25hRequirement already satisfied: jsonschema<5.0.0,>=4.0.0 in /usr/local/lib/python3.10/dist-packages (from apache-beam>=2.38.0->servir-aces) (4.19.2)\n",
            "Requirement already satisfied: jsonpickle<4.0.0,>=3.0.0 in /usr/local/lib/python3.10/dist-packages (from apache-beam>=2.38.0->servir-aces) (3.0.3)\n",
            "Collecting objsize<0.8.0,>=0.6.1 (from apache-beam>=2.38.0->servir-aces)\n",
            "  Downloading objsize-0.7.0-py3-none-any.whl (11 kB)\n",
            "Requirement already satisfied: packaging>=22.0 in /usr/local/lib/python3.10/dist-packages (from apache-beam>=2.38.0->servir-aces) (24.0)\n",
            "Collecting pymongo<5.0.0,>=3.8.0 (from apache-beam>=2.38.0->servir-aces)\n",
            "  Downloading pymongo-4.6.3-cp310-cp310-manylinux_2_17_x86_64.manylinux2014_x86_64.whl (676 kB)\n",
            "\u001b[2K     \u001b[90m━━━━━━━━━━━━━━━━━━━━━━━━━━━━━━━━━━━━━━━━\u001b[0m \u001b[32m676.9/676.9 kB\u001b[0m \u001b[31m47.2 MB/s\u001b[0m eta \u001b[36m0:00:00\u001b[0m\n",
            "\u001b[?25hRequirement already satisfied: proto-plus<2,>=1.7.1 in /usr/local/lib/python3.10/dist-packages (from apache-beam>=2.38.0->servir-aces) (1.23.0)\n",
            "Requirement already satisfied: protobuf!=4.0.*,!=4.21.*,!=4.22.0,!=4.23.*,!=4.24.*,<4.26.0,>=3.20.3 in /usr/local/lib/python3.10/dist-packages (from apache-beam>=2.38.0->servir-aces) (3.20.3)\n",
            "Requirement already satisfied: pydot<2,>=1.2.0 in /usr/local/lib/python3.10/dist-packages (from apache-beam>=2.38.0->servir-aces) (1.4.2)\n",
            "Requirement already satisfied: python-dateutil<3,>=2.8.0 in /usr/local/lib/python3.10/dist-packages (from apache-beam>=2.38.0->servir-aces) (2.8.2)\n",
            "Requirement already satisfied: pytz>=2018.3 in /usr/local/lib/python3.10/dist-packages (from apache-beam>=2.38.0->servir-aces) (2023.4)\n",
            "Requirement already satisfied: regex>=2020.6.8 in /usr/local/lib/python3.10/dist-packages (from apache-beam>=2.38.0->servir-aces) (2023.12.25)\n",
            "Requirement already satisfied: requests<3.0.0,>=2.24.0 in /usr/local/lib/python3.10/dist-packages (from apache-beam>=2.38.0->servir-aces) (2.31.0)\n",
            "Requirement already satisfied: typing-extensions>=3.7.0 in /usr/local/lib/python3.10/dist-packages (from apache-beam>=2.38.0->servir-aces) (4.10.0)\n",
            "Collecting zstandard<1,>=0.18.0 (from apache-beam>=2.38.0->servir-aces)\n",
            "  Downloading zstandard-0.22.0-cp310-cp310-manylinux_2_17_x86_64.manylinux2014_x86_64.whl (5.4 MB)\n",
            "\u001b[2K     \u001b[90m━━━━━━━━━━━━━━━━━━━━━━━━━━━━━━━━━━━━━━━━\u001b[0m \u001b[32m5.4/5.4 MB\u001b[0m \u001b[31m46.0 MB/s\u001b[0m eta \u001b[36m0:00:00\u001b[0m\n",
            "\u001b[?25hRequirement already satisfied: pyarrow<15.0.0,>=3.0.0 in /usr/local/lib/python3.10/dist-packages (from apache-beam>=2.38.0->servir-aces) (14.0.2)\n",
            "Requirement already satisfied: pyarrow-hotfix<1 in /usr/local/lib/python3.10/dist-packages (from apache-beam>=2.38.0->servir-aces) (0.6)\n",
            "Requirement already satisfied: absl-py>=1.0.0 in /usr/local/lib/python3.10/dist-packages (from tensorflow>=2.9.3->servir-aces) (1.4.0)\n",
            "Requirement already satisfied: astunparse>=1.6.0 in /usr/local/lib/python3.10/dist-packages (from tensorflow>=2.9.3->servir-aces) (1.6.3)\n",
            "Requirement already satisfied: flatbuffers>=23.5.26 in /usr/local/lib/python3.10/dist-packages (from tensorflow>=2.9.3->servir-aces) (24.3.25)\n",
            "Requirement already satisfied: gast!=0.5.0,!=0.5.1,!=0.5.2,>=0.2.1 in /usr/local/lib/python3.10/dist-packages (from tensorflow>=2.9.3->servir-aces) (0.5.4)\n",
            "Requirement already satisfied: google-pasta>=0.1.1 in /usr/local/lib/python3.10/dist-packages (from tensorflow>=2.9.3->servir-aces) (0.2.0)\n",
            "Requirement already satisfied: h5py>=2.9.0 in /usr/local/lib/python3.10/dist-packages (from tensorflow>=2.9.3->servir-aces) (3.9.0)\n",
            "Requirement already satisfied: libclang>=13.0.0 in /usr/local/lib/python3.10/dist-packages (from tensorflow>=2.9.3->servir-aces) (18.1.1)\n",
            "Requirement already satisfied: ml-dtypes~=0.2.0 in /usr/local/lib/python3.10/dist-packages (from tensorflow>=2.9.3->servir-aces) (0.2.0)\n",
            "Requirement already satisfied: opt-einsum>=2.3.2 in /usr/local/lib/python3.10/dist-packages (from tensorflow>=2.9.3->servir-aces) (3.3.0)\n",
            "Requirement already satisfied: setuptools in /usr/local/lib/python3.10/dist-packages (from tensorflow>=2.9.3->servir-aces) (67.7.2)\n",
            "Requirement already satisfied: six>=1.12.0 in /usr/local/lib/python3.10/dist-packages (from tensorflow>=2.9.3->servir-aces) (1.16.0)\n",
            "Requirement already satisfied: termcolor>=1.1.0 in /usr/local/lib/python3.10/dist-packages (from tensorflow>=2.9.3->servir-aces) (2.4.0)\n",
            "Requirement already satisfied: wrapt<1.15,>=1.11.0 in /usr/local/lib/python3.10/dist-packages (from tensorflow>=2.9.3->servir-aces) (1.14.1)\n",
            "Requirement already satisfied: tensorflow-io-gcs-filesystem>=0.23.1 in /usr/local/lib/python3.10/dist-packages (from tensorflow>=2.9.3->servir-aces) (0.36.0)\n",
            "Requirement already satisfied: tensorboard<2.16,>=2.15 in /usr/local/lib/python3.10/dist-packages (from tensorflow>=2.9.3->servir-aces) (2.15.2)\n",
            "Requirement already satisfied: tensorflow-estimator<2.16,>=2.15.0 in /usr/local/lib/python3.10/dist-packages (from tensorflow>=2.9.3->servir-aces) (2.15.0)\n",
            "Requirement already satisfied: keras<2.16,>=2.15.0 in /usr/local/lib/python3.10/dist-packages (from tensorflow>=2.9.3->servir-aces) (2.15.0)\n",
            "Requirement already satisfied: google-cloud-storage in /usr/local/lib/python3.10/dist-packages (from earthengine-api->servir-aces) (2.8.0)\n",
            "Requirement already satisfied: google-api-python-client>=1.12.1 in /usr/local/lib/python3.10/dist-packages (from earthengine-api->servir-aces) (2.84.0)\n",
            "Requirement already satisfied: google-auth>=1.4.1 in /usr/local/lib/python3.10/dist-packages (from earthengine-api->servir-aces) (2.27.0)\n",
            "Requirement already satisfied: google-auth-httplib2>=0.0.3 in /usr/local/lib/python3.10/dist-packages (from earthengine-api->servir-aces) (0.1.1)\n",
            "Requirement already satisfied: contourpy>=1.0.1 in /usr/local/lib/python3.10/dist-packages (from matplotlib->servir-aces) (1.2.0)\n",
            "Requirement already satisfied: cycler>=0.10 in /usr/local/lib/python3.10/dist-packages (from matplotlib->servir-aces) (0.12.1)\n",
            "Requirement already satisfied: fonttools>=4.22.0 in /usr/local/lib/python3.10/dist-packages (from matplotlib->servir-aces) (4.50.0)\n",
            "Requirement already satisfied: kiwisolver>=1.0.1 in /usr/local/lib/python3.10/dist-packages (from matplotlib->servir-aces) (1.4.5)\n",
            "Requirement already satisfied: pillow>=6.2.0 in /usr/local/lib/python3.10/dist-packages (from matplotlib->servir-aces) (9.4.0)\n",
            "Requirement already satisfied: pyparsing>=2.3.1 in /usr/local/lib/python3.10/dist-packages (from matplotlib->servir-aces) (3.1.2)\n",
            "Requirement already satisfied: wheel<1.0,>=0.23.0 in /usr/local/lib/python3.10/dist-packages (from astunparse>=1.6.0->tensorflow>=2.9.3->servir-aces) (0.43.0)\n",
            "Requirement already satisfied: google-api-core!=2.0.*,!=2.1.*,!=2.2.*,!=2.3.0,<3.0.0dev,>=1.31.5 in /usr/local/lib/python3.10/dist-packages (from google-api-python-client>=1.12.1->earthengine-api->servir-aces) (2.11.1)\n",
            "Requirement already satisfied: uritemplate<5,>=3.0.1 in /usr/local/lib/python3.10/dist-packages (from google-api-python-client>=1.12.1->earthengine-api->servir-aces) (4.1.1)\n",
            "Requirement already satisfied: cachetools<6.0,>=2.0.0 in /usr/local/lib/python3.10/dist-packages (from google-auth>=1.4.1->earthengine-api->servir-aces) (5.3.3)\n",
            "Requirement already satisfied: pyasn1-modules>=0.2.1 in /usr/local/lib/python3.10/dist-packages (from google-auth>=1.4.1->earthengine-api->servir-aces) (0.4.0)\n",
            "Requirement already satisfied: rsa<5,>=3.1.4 in /usr/local/lib/python3.10/dist-packages (from google-auth>=1.4.1->earthengine-api->servir-aces) (4.9)\n",
            "Collecting docopt (from hdfs<3.0.0,>=2.1.0->apache-beam>=2.38.0->servir-aces)\n",
            "  Downloading docopt-0.6.2.tar.gz (25 kB)\n",
            "  Preparing metadata (setup.py) ... \u001b[?25l\u001b[?25hdone\n",
            "Requirement already satisfied: tzlocal>=1.2 in /usr/local/lib/python3.10/dist-packages (from js2py<1,>=0.74->apache-beam>=2.38.0->servir-aces) (5.2)\n",
            "Collecting pyjsparser>=2.5.1 (from js2py<1,>=0.74->apache-beam>=2.38.0->servir-aces)\n",
            "  Downloading pyjsparser-2.7.1.tar.gz (24 kB)\n",
            "  Preparing metadata (setup.py) ... \u001b[?25l\u001b[?25hdone\n",
            "Requirement already satisfied: attrs>=22.2.0 in /usr/local/lib/python3.10/dist-packages (from jsonschema<5.0.0,>=4.0.0->apache-beam>=2.38.0->servir-aces) (23.2.0)\n",
            "Requirement already satisfied: jsonschema-specifications>=2023.03.6 in /usr/local/lib/python3.10/dist-packages (from jsonschema<5.0.0,>=4.0.0->apache-beam>=2.38.0->servir-aces) (2023.12.1)\n",
            "Requirement already satisfied: referencing>=0.28.4 in /usr/local/lib/python3.10/dist-packages (from jsonschema<5.0.0,>=4.0.0->apache-beam>=2.38.0->servir-aces) (0.34.0)\n",
            "Requirement already satisfied: rpds-py>=0.7.1 in /usr/local/lib/python3.10/dist-packages (from jsonschema<5.0.0,>=4.0.0->apache-beam>=2.38.0->servir-aces) (0.18.0)\n",
            "Collecting dnspython<3.0.0,>=1.16.0 (from pymongo<5.0.0,>=3.8.0->apache-beam>=2.38.0->servir-aces)\n",
            "  Downloading dnspython-2.6.1-py3-none-any.whl (307 kB)\n",
            "\u001b[2K     \u001b[90m━━━━━━━━━━━━━━━━━━━━━━━━━━━━━━━━━━━━━━━━\u001b[0m \u001b[32m307.7/307.7 kB\u001b[0m \u001b[31m38.8 MB/s\u001b[0m eta \u001b[36m0:00:00\u001b[0m\n",
            "\u001b[?25hRequirement already satisfied: charset-normalizer<4,>=2 in /usr/local/lib/python3.10/dist-packages (from requests<3.0.0,>=2.24.0->apache-beam>=2.38.0->servir-aces) (3.3.2)\n",
            "Requirement already satisfied: idna<4,>=2.5 in /usr/local/lib/python3.10/dist-packages (from requests<3.0.0,>=2.24.0->apache-beam>=2.38.0->servir-aces) (3.6)\n",
            "Requirement already satisfied: urllib3<3,>=1.21.1 in /usr/local/lib/python3.10/dist-packages (from requests<3.0.0,>=2.24.0->apache-beam>=2.38.0->servir-aces) (2.0.7)\n",
            "Requirement already satisfied: certifi>=2017.4.17 in /usr/local/lib/python3.10/dist-packages (from requests<3.0.0,>=2.24.0->apache-beam>=2.38.0->servir-aces) (2024.2.2)\n",
            "Requirement already satisfied: google-auth-oauthlib<2,>=0.5 in /usr/local/lib/python3.10/dist-packages (from tensorboard<2.16,>=2.15->tensorflow>=2.9.3->servir-aces) (1.2.0)\n",
            "Requirement already satisfied: markdown>=2.6.8 in /usr/local/lib/python3.10/dist-packages (from tensorboard<2.16,>=2.15->tensorflow>=2.9.3->servir-aces) (3.6)\n",
            "Requirement already satisfied: tensorboard-data-server<0.8.0,>=0.7.0 in /usr/local/lib/python3.10/dist-packages (from tensorboard<2.16,>=2.15->tensorflow>=2.9.3->servir-aces) (0.7.2)\n",
            "Requirement already satisfied: werkzeug>=1.0.1 in /usr/local/lib/python3.10/dist-packages (from tensorboard<2.16,>=2.15->tensorflow>=2.9.3->servir-aces) (3.0.2)\n",
            "Requirement already satisfied: google-cloud-core<3.0dev,>=2.3.0 in /usr/local/lib/python3.10/dist-packages (from google-cloud-storage->earthengine-api->servir-aces) (2.3.3)\n",
            "Requirement already satisfied: google-resumable-media>=2.3.2 in /usr/local/lib/python3.10/dist-packages (from google-cloud-storage->earthengine-api->servir-aces) (2.7.0)\n",
            "Requirement already satisfied: googleapis-common-protos<2.0.dev0,>=1.56.2 in /usr/local/lib/python3.10/dist-packages (from google-api-core!=2.0.*,!=2.1.*,!=2.2.*,!=2.3.0,<3.0.0dev,>=1.31.5->google-api-python-client>=1.12.1->earthengine-api->servir-aces) (1.63.0)\n",
            "Requirement already satisfied: requests-oauthlib>=0.7.0 in /usr/local/lib/python3.10/dist-packages (from google-auth-oauthlib<2,>=0.5->tensorboard<2.16,>=2.15->tensorflow>=2.9.3->servir-aces) (1.3.1)\n",
            "Requirement already satisfied: google-crc32c<2.0dev,>=1.0 in /usr/local/lib/python3.10/dist-packages (from google-resumable-media>=2.3.2->google-cloud-storage->earthengine-api->servir-aces) (1.5.0)\n",
            "Requirement already satisfied: pyasn1<0.7.0,>=0.4.6 in /usr/local/lib/python3.10/dist-packages (from pyasn1-modules>=0.2.1->google-auth>=1.4.1->earthengine-api->servir-aces) (0.6.0)\n",
            "Requirement already satisfied: MarkupSafe>=2.1.1 in /usr/local/lib/python3.10/dist-packages (from werkzeug>=1.0.1->tensorboard<2.16,>=2.15->tensorflow>=2.9.3->servir-aces) (2.1.5)\n",
            "Requirement already satisfied: oauthlib>=3.0.0 in /usr/local/lib/python3.10/dist-packages (from requests-oauthlib>=0.7.0->google-auth-oauthlib<2,>=0.5->tensorboard<2.16,>=2.15->tensorflow>=2.9.3->servir-aces) (3.2.2)\n",
            "Building wheels for collected packages: crcmod, dill, hdfs, pyjsparser, docopt\n",
            "  Building wheel for crcmod (setup.py) ... \u001b[?25l\u001b[?25hdone\n",
            "  Created wheel for crcmod: filename=crcmod-1.7-cp310-cp310-linux_x86_64.whl size=31407 sha256=d543b81bdafb8aa81949726b8a24a146618d21a174d7f76d6418f6fbfccc8889\n",
            "  Stored in directory: /root/.cache/pip/wheels/85/4c/07/72215c529bd59d67e3dac29711d7aba1b692f543c808ba9e86\n",
            "  Building wheel for dill (setup.py) ... \u001b[?25l\u001b[?25hdone\n",
            "  Created wheel for dill: filename=dill-0.3.1.1-py3-none-any.whl size=78541 sha256=54b0fa20a1b355c94e4b515da72feca7bc2227c2641fcf6b461991ec1ed03eab\n",
            "  Stored in directory: /root/.cache/pip/wheels/ea/e2/86/64980d90e297e7bf2ce588c2b96e818f5399c515c4bb8a7e4f\n",
            "  Building wheel for hdfs (setup.py) ... \u001b[?25l\u001b[?25hdone\n",
            "  Created wheel for hdfs: filename=hdfs-2.7.3-py3-none-any.whl size=34324 sha256=4b8fedbed2f977af41a815a6be161b684f41ee1e468a8f0d872cb04d656f5ff0\n",
            "  Stored in directory: /root/.cache/pip/wheels/e5/8d/b6/99c1c0a3ac5788c866b0ecd3f48b0134a5910e6ed26011800b\n",
            "  Building wheel for pyjsparser (setup.py) ... \u001b[?25l\u001b[?25hdone\n",
            "  Created wheel for pyjsparser: filename=pyjsparser-2.7.1-py3-none-any.whl size=25984 sha256=43a21ff3c8be506d33857aaaee67fe89176739b16c01ea216e15cda9d6aade47\n",
            "  Stored in directory: /root/.cache/pip/wheels/5e/81/26/5956478df303e2bf5a85a5df595bb307bd25948a4bab69f7c7\n",
            "  Building wheel for docopt (setup.py) ... \u001b[?25l\u001b[?25hdone\n",
            "  Created wheel for docopt: filename=docopt-0.6.2-py2.py3-none-any.whl size=13706 sha256=0c363e1657480cc8ca290b697d686888b7315a3d06c269339cb4ae2ad4c32379\n",
            "  Stored in directory: /root/.cache/pip/wheels/fc/ab/d4/5da2067ac95b36618c629a5f93f809425700506f72c9732fac\n",
            "Successfully built crcmod dill hdfs pyjsparser docopt\n",
            "Installing collected packages: pyjsparser, docopt, crcmod, zstandard, python-dotenv, orjson, objsize, js2py, fasteners, fastavro, dnspython, dill, pymongo, hdfs, apache-beam, servir-aces\n",
            "Successfully installed apache-beam-2.55.0 crcmod-1.7 dill-0.3.1.1 dnspython-2.6.1 docopt-0.6.2 fastavro-1.9.4 fasteners-0.19 hdfs-2.7.3 js2py-0.74 objsize-0.7.0 orjson-3.10.0 pyjsparser-2.7.1 pymongo-4.6.3 python-dotenv-1.0.1 servir-aces-0.0.6 zstandard-0.22.0\n"
          ]
        }
      ]
    },
    {
      "cell_type": "code",
      "source": [
        "!git clone https://github.com/SERVIR/servir-aces"
      ],
      "metadata": {
        "colab": {
          "base_uri": "https://localhost:8080/"
        },
        "id": "6PvoP9Sgqz4e",
        "outputId": "844389a1-595b-4f34-ec5d-12f643e1ba5b"
      },
      "execution_count": null,
      "outputs": [
        {
          "output_type": "stream",
          "name": "stdout",
          "text": [
            "Cloning into 'servir-aces'...\n",
            "remote: Enumerating objects: 680, done.\u001b[K\n",
            "remote: Counting objects: 100% (107/107), done.\u001b[K\n",
            "remote: Compressing objects: 100% (58/58), done.\u001b[K\n",
            "remote: Total 680 (delta 64), reused 62 (delta 49), pack-reused 573\u001b[K\n",
            "Receiving objects: 100% (680/680), 898.59 KiB | 5.25 MiB/s, done.\n",
            "Resolving deltas: 100% (384/384), done.\n"
          ]
        }
      ]
    },
    {
      "cell_type": "markdown",
      "source": [
        "Now the repo is downloaded. We will create an environment file file to place point to our training data and customize parameters for the model. To do this, we make a copy of the `.env.example` file provided.\n",
        "\n",
        "Under the hood, all the configuration provided via the environment file are parsed as a config object and can be accessed programatically.\n",
        "\n",
        "Note current version does not expose all the model intracacies through the environment file but future version may include those depending on the need."
      ],
      "metadata": {
        "id": "RukLD6eeq7Fl"
      }
    },
    {
      "cell_type": "code",
      "source": [
        "!cp servir-aces/.env.example servir-aces/config.env"
      ],
      "metadata": {
        "id": "jpnfjXRYsYMk"
      },
      "execution_count": null,
      "outputs": []
    },
    {
      "cell_type": "markdown",
      "source": [
        "Okay, now we have the `config.env` file, we will use this to provide our environments and parameters.\n",
        "\n",
        "Note there are several parameters that can be changed. Let's start by changing the BASEDIR as below.\n",
        "\n",
        "```\n",
        "BASEDIR = \"/content/\"\n",
        "```"
      ],
      "metadata": {
        "id": "ooFqBUY3gS5e"
      }
    },
    {
      "cell_type": "markdown",
      "source": [
        "We will download data for this chapter. We will use `datasets` dir to download the data. Let's go ahead and create that."
      ],
      "metadata": {
        "id": "Oqyc1EHFhC9n"
      }
    },
    {
      "cell_type": "code",
      "source": [
        "!mkdir /content/datasets"
      ],
      "metadata": {
        "id": "RnkHrSYThBZ1"
      },
      "execution_count": null,
      "outputs": []
    },
    {
      "cell_type": "markdown",
      "source": [
        "Let's go ahead and download the datasets for which we need to calculate the number of samples. They can be found at the google cloud storage and we will use `gsutil` to get the dataset in our workspace. Each folder/ dataset has `training`, `testing`, and `validation` subdirectory. Let's start by downloading these datasets in our workspace."
      ],
      "metadata": {
        "id": "hyyTqvnahc2h"
      }
    },
    {
      "cell_type": "code",
      "source": [
        "!gsutil -m cp -r gs://dl-book/chapter-1/* /content/datasets"
      ],
      "metadata": {
        "id": "6Ft4VMolhjgG",
        "colab": {
          "base_uri": "https://localhost:8080/"
        },
        "outputId": "fb5eac31-4a32-4607-ad6e-cd69e6b936f3"
      },
      "execution_count": null,
      "outputs": [
        {
          "output_type": "stream",
          "name": "stdout",
          "text": [
            "Copying gs://dl-book/chapter-1/dnn_planet_wo_indices_w_s1_w_elevation/testing/testing.tfrecord.gz...\n",
            "/ [0 files][    0.0 B/105.2 KiB]                                                \rCopying gs://dl-book/chapter-1/dnn_planet_wo_indices_w_s1_w_elevation/training/training.tfrecord.gz...\n",
            "/ [0 files][    0.0 B/813.2 KiB]                                                \rCopying gs://dl-book/chapter-1/unet_256x256_planet_wo_indices_w_s1_w_elevation/testing/testing-00001-of-00038.tfrecord.gz...\n",
            "/ [0 files][    0.0 B/ 90.9 MiB]                                                \rCopying gs://dl-book/chapter-1/dnn_planet_wo_indices_w_s1_w_elevation/validation/validation.tfrecord.gz...\n",
            "/ [0 files][    0.0 B/ 91.1 MiB]                                                \rCopying gs://dl-book/chapter-1/unet_256x256_planet_wo_indices_w_s1_w_elevation/testing/testing-00000-of-00038.tfrecord.gz...\n",
            "/ [0 files][    0.0 B/181.2 MiB]                                                \rCopying gs://dl-book/chapter-1/unet_256x256_planet_wo_indices_w_s1_w_elevation/testing/testing-00003-of-00038.tfrecord.gz...\n",
            "/ [0 files][    0.0 B/271.4 MiB]                                                \rCopying gs://dl-book/chapter-1/unet_256x256_planet_wo_indices_w_s1_w_elevation/testing/testing-00002-of-00038.tfrecord.gz...\n",
            "Copying gs://dl-book/chapter-1/unet_256x256_planet_wo_indices_w_s1_w_elevation/testing/testing-00004-of-00038.tfrecord.gz...\n",
            "Copying gs://dl-book/chapter-1/unet_256x256_planet_wo_indices_w_s1_w_elevation/testing/testing-00006-of-00038.tfrecord.gz...\n",
            "Copying gs://dl-book/chapter-1/unet_256x256_planet_wo_indices_w_s1_w_elevation/testing/testing-00005-of-00038.tfrecord.gz...\n",
            "Copying gs://dl-book/chapter-1/unet_256x256_planet_wo_indices_w_s1_w_elevation/testing/testing-00007-of-00038.tfrecord.gz...\n",
            "Copying gs://dl-book/chapter-1/unet_256x256_planet_wo_indices_w_s1_w_elevation/testing/testing-00008-of-00038.tfrecord.gz...\n",
            "Copying gs://dl-book/chapter-1/unet_256x256_planet_wo_indices_w_s1_w_elevation/testing/testing-00009-of-00038.tfrecord.gz...\n",
            "Copying gs://dl-book/chapter-1/unet_256x256_planet_wo_indices_w_s1_w_elevation/testing/testing-00010-of-00038.tfrecord.gz...\n",
            "Copying gs://dl-book/chapter-1/unet_256x256_planet_wo_indices_w_s1_w_elevation/testing/testing-00011-of-00038.tfrecord.gz...\n",
            "Copying gs://dl-book/chapter-1/unet_256x256_planet_wo_indices_w_s1_w_elevation/testing/testing-00012-of-00038.tfrecord.gz...\n",
            "Copying gs://dl-book/chapter-1/unet_256x256_planet_wo_indices_w_s1_w_elevation/testing/testing-00013-of-00038.tfrecord.gz...\n",
            "Copying gs://dl-book/chapter-1/unet_256x256_planet_wo_indices_w_s1_w_elevation/testing/testing-00014-of-00038.tfrecord.gz...\n",
            "Copying gs://dl-book/chapter-1/unet_256x256_planet_wo_indices_w_s1_w_elevation/testing/testing-00015-of-00038.tfrecord.gz...\n",
            "Copying gs://dl-book/chapter-1/unet_256x256_planet_wo_indices_w_s1_w_elevation/testing/testing-00016-of-00038.tfrecord.gz...\n",
            "Copying gs://dl-book/chapter-1/unet_256x256_planet_wo_indices_w_s1_w_elevation/testing/testing-00017-of-00038.tfrecord.gz...\n",
            "Copying gs://dl-book/chapter-1/unet_256x256_planet_wo_indices_w_s1_w_elevation/testing/testing-00018-of-00038.tfrecord.gz...\n",
            "Copying gs://dl-book/chapter-1/unet_256x256_planet_wo_indices_w_s1_w_elevation/testing/testing-00019-of-00038.tfrecord.gz...\n",
            "Copying gs://dl-book/chapter-1/unet_256x256_planet_wo_indices_w_s1_w_elevation/testing/testing-00020-of-00038.tfrecord.gz...\n",
            "Copying gs://dl-book/chapter-1/unet_256x256_planet_wo_indices_w_s1_w_elevation/testing/testing-00021-of-00038.tfrecord.gz...\n",
            "Copying gs://dl-book/chapter-1/unet_256x256_planet_wo_indices_w_s1_w_elevation/testing/testing-00022-of-00038.tfrecord.gz...\n",
            "Copying gs://dl-book/chapter-1/unet_256x256_planet_wo_indices_w_s1_w_elevation/testing/testing-00023-of-00038.tfrecord.gz...\n",
            "Copying gs://dl-book/chapter-1/unet_256x256_planet_wo_indices_w_s1_w_elevation/testing/testing-00024-of-00038.tfrecord.gz...\n",
            "Copying gs://dl-book/chapter-1/unet_256x256_planet_wo_indices_w_s1_w_elevation/testing/testing-00025-of-00038.tfrecord.gz...\n",
            "Copying gs://dl-book/chapter-1/unet_256x256_planet_wo_indices_w_s1_w_elevation/testing/testing-00026-of-00038.tfrecord.gz...\n",
            "Copying gs://dl-book/chapter-1/unet_256x256_planet_wo_indices_w_s1_w_elevation/testing/testing-00027-of-00038.tfrecord.gz...\n",
            "Copying gs://dl-book/chapter-1/unet_256x256_planet_wo_indices_w_s1_w_elevation/testing/testing-00028-of-00038.tfrecord.gz...\n",
            "Copying gs://dl-book/chapter-1/unet_256x256_planet_wo_indices_w_s1_w_elevation/testing/testing-00029-of-00038.tfrecord.gz...\n",
            "Copying gs://dl-book/chapter-1/unet_256x256_planet_wo_indices_w_s1_w_elevation/testing/testing-00030-of-00038.tfrecord.gz...\n",
            "Copying gs://dl-book/chapter-1/unet_256x256_planet_wo_indices_w_s1_w_elevation/testing/testing-00031-of-00038.tfrecord.gz...\n",
            "Copying gs://dl-book/chapter-1/unet_256x256_planet_wo_indices_w_s1_w_elevation/testing/testing-00033-of-00038.tfrecord.gz...\n",
            "Copying gs://dl-book/chapter-1/unet_256x256_planet_wo_indices_w_s1_w_elevation/testing/testing-00032-of-00038.tfrecord.gz...\n",
            "Copying gs://dl-book/chapter-1/unet_256x256_planet_wo_indices_w_s1_w_elevation/testing/testing-00034-of-00038.tfrecord.gz...\n",
            "Copying gs://dl-book/chapter-1/unet_256x256_planet_wo_indices_w_s1_w_elevation/testing/testing-00035-of-00038.tfrecord.gz...\n",
            "Copying gs://dl-book/chapter-1/unet_256x256_planet_wo_indices_w_s1_w_elevation/testing/testing-00036-of-00038.tfrecord.gz...\n",
            "Copying gs://dl-book/chapter-1/unet_256x256_planet_wo_indices_w_s1_w_elevation/testing/testing-00037-of-00038.tfrecord.gz...\n",
            "Copying gs://dl-book/chapter-1/unet_256x256_planet_wo_indices_w_s1_w_elevation/training/training-00000-of-00038.tfrecord.gz...\n",
            "Copying gs://dl-book/chapter-1/unet_256x256_planet_wo_indices_w_s1_w_elevation/training/training-00001-of-00038.tfrecord.gz...\n",
            "Copying gs://dl-book/chapter-1/unet_256x256_planet_wo_indices_w_s1_w_elevation/training/training-00002-of-00038.tfrecord.gz...\n",
            "Copying gs://dl-book/chapter-1/unet_256x256_planet_wo_indices_w_s1_w_elevation/training/training-00003-of-00038.tfrecord.gz...\n",
            "Copying gs://dl-book/chapter-1/unet_256x256_planet_wo_indices_w_s1_w_elevation/training/training-00004-of-00038.tfrecord.gz...\n",
            "Copying gs://dl-book/chapter-1/unet_256x256_planet_wo_indices_w_s1_w_elevation/training/training-00005-of-00038.tfrecord.gz...\n",
            "Copying gs://dl-book/chapter-1/unet_256x256_planet_wo_indices_w_s1_w_elevation/training/training-00006-of-00038.tfrecord.gz...\n",
            "Copying gs://dl-book/chapter-1/unet_256x256_planet_wo_indices_w_s1_w_elevation/training/training-00007-of-00038.tfrecord.gz...\n",
            "Copying gs://dl-book/chapter-1/unet_256x256_planet_wo_indices_w_s1_w_elevation/training/training-00008-of-00038.tfrecord.gz...\n",
            "Copying gs://dl-book/chapter-1/unet_256x256_planet_wo_indices_w_s1_w_elevation/training/training-00009-of-00038.tfrecord.gz...\n",
            "Copying gs://dl-book/chapter-1/unet_256x256_planet_wo_indices_w_s1_w_elevation/training/training-00010-of-00038.tfrecord.gz...\n",
            "Copying gs://dl-book/chapter-1/unet_256x256_planet_wo_indices_w_s1_w_elevation/training/training-00011-of-00038.tfrecord.gz...\n",
            "Copying gs://dl-book/chapter-1/unet_256x256_planet_wo_indices_w_s1_w_elevation/training/training-00012-of-00038.tfrecord.gz...\n",
            "Copying gs://dl-book/chapter-1/unet_256x256_planet_wo_indices_w_s1_w_elevation/training/training-00013-of-00038.tfrecord.gz...\n",
            "Copying gs://dl-book/chapter-1/unet_256x256_planet_wo_indices_w_s1_w_elevation/training/training-00014-of-00038.tfrecord.gz...\n",
            "Copying gs://dl-book/chapter-1/unet_256x256_planet_wo_indices_w_s1_w_elevation/training/training-00015-of-00038.tfrecord.gz...\n",
            "Copying gs://dl-book/chapter-1/unet_256x256_planet_wo_indices_w_s1_w_elevation/training/training-00016-of-00038.tfrecord.gz...\n",
            "Copying gs://dl-book/chapter-1/unet_256x256_planet_wo_indices_w_s1_w_elevation/training/training-00017-of-00038.tfrecord.gz...\n",
            "Copying gs://dl-book/chapter-1/unet_256x256_planet_wo_indices_w_s1_w_elevation/training/training-00018-of-00038.tfrecord.gz...\n",
            "Copying gs://dl-book/chapter-1/unet_256x256_planet_wo_indices_w_s1_w_elevation/training/training-00019-of-00038.tfrecord.gz...\n",
            "Copying gs://dl-book/chapter-1/unet_256x256_planet_wo_indices_w_s1_w_elevation/training/training-00020-of-00038.tfrecord.gz...\n",
            "Copying gs://dl-book/chapter-1/unet_256x256_planet_wo_indices_w_s1_w_elevation/training/training-00021-of-00038.tfrecord.gz...\n",
            "Copying gs://dl-book/chapter-1/unet_256x256_planet_wo_indices_w_s1_w_elevation/training/training-00022-of-00038.tfrecord.gz...\n",
            "Copying gs://dl-book/chapter-1/unet_256x256_planet_wo_indices_w_s1_w_elevation/training/training-00023-of-00038.tfrecord.gz...\n",
            "Copying gs://dl-book/chapter-1/unet_256x256_planet_wo_indices_w_s1_w_elevation/training/training-00024-of-00038.tfrecord.gz...\n",
            "Copying gs://dl-book/chapter-1/unet_256x256_planet_wo_indices_w_s1_w_elevation/training/training-00025-of-00038.tfrecord.gz...\n",
            "Copying gs://dl-book/chapter-1/unet_256x256_planet_wo_indices_w_s1_w_elevation/training/training-00026-of-00038.tfrecord.gz...\n",
            "Copying gs://dl-book/chapter-1/unet_256x256_planet_wo_indices_w_s1_w_elevation/training/training-00027-of-00038.tfrecord.gz...\n",
            "Copying gs://dl-book/chapter-1/unet_256x256_planet_wo_indices_w_s1_w_elevation/training/training-00028-of-00038.tfrecord.gz...\n",
            "Copying gs://dl-book/chapter-1/unet_256x256_planet_wo_indices_w_s1_w_elevation/training/training-00029-of-00038.tfrecord.gz...\n",
            "Copying gs://dl-book/chapter-1/unet_256x256_planet_wo_indices_w_s1_w_elevation/training/training-00030-of-00038.tfrecord.gz...\n",
            "Copying gs://dl-book/chapter-1/unet_256x256_planet_wo_indices_w_s1_w_elevation/training/training-00031-of-00038.tfrecord.gz...\n",
            "Copying gs://dl-book/chapter-1/unet_256x256_planet_wo_indices_w_s1_w_elevation/training/training-00032-of-00038.tfrecord.gz...\n",
            "Copying gs://dl-book/chapter-1/unet_256x256_planet_wo_indices_w_s1_w_elevation/training/training-00033-of-00038.tfrecord.gz...\n",
            "Copying gs://dl-book/chapter-1/unet_256x256_planet_wo_indices_w_s1_w_elevation/training/training-00034-of-00038.tfrecord.gz...\n",
            "Copying gs://dl-book/chapter-1/unet_256x256_planet_wo_indices_w_s1_w_elevation/training/training-00035-of-00038.tfrecord.gz...\n",
            "Copying gs://dl-book/chapter-1/unet_256x256_planet_wo_indices_w_s1_w_elevation/training/training-00036-of-00038.tfrecord.gz...\n",
            "Copying gs://dl-book/chapter-1/unet_256x256_planet_wo_indices_w_s1_w_elevation/training/training-00037-of-00038.tfrecord.gz...\n",
            "Copying gs://dl-book/chapter-1/unet_256x256_planet_wo_indices_w_s1_w_elevation/validation/validation-00000-of-00038.tfrecord.gz...\n",
            "Copying gs://dl-book/chapter-1/unet_256x256_planet_wo_indices_w_s1_w_elevation/validation/validation-00001-of-00038.tfrecord.gz...\n",
            "Copying gs://dl-book/chapter-1/unet_256x256_planet_wo_indices_w_s1_w_elevation/validation/validation-00002-of-00038.tfrecord.gz...\n",
            "Copying gs://dl-book/chapter-1/unet_256x256_planet_wo_indices_w_s1_w_elevation/validation/validation-00003-of-00038.tfrecord.gz...\n",
            "Copying gs://dl-book/chapter-1/unet_256x256_planet_wo_indices_w_s1_w_elevation/validation/validation-00004-of-00038.tfrecord.gz...\n",
            "Copying gs://dl-book/chapter-1/unet_256x256_planet_wo_indices_w_s1_w_elevation/validation/validation-00005-of-00038.tfrecord.gz...\n",
            "Copying gs://dl-book/chapter-1/unet_256x256_planet_wo_indices_w_s1_w_elevation/validation/validation-00006-of-00038.tfrecord.gz...\n",
            "Copying gs://dl-book/chapter-1/unet_256x256_planet_wo_indices_w_s1_w_elevation/validation/validation-00007-of-00038.tfrecord.gz...\n",
            "Copying gs://dl-book/chapter-1/unet_256x256_planet_wo_indices_w_s1_w_elevation/validation/validation-00008-of-00038.tfrecord.gz...\n",
            "Copying gs://dl-book/chapter-1/unet_256x256_planet_wo_indices_w_s1_w_elevation/validation/validation-00009-of-00038.tfrecord.gz...\n",
            "Copying gs://dl-book/chapter-1/unet_256x256_planet_wo_indices_w_s1_w_elevation/validation/validation-00010-of-00038.tfrecord.gz...\n",
            "Copying gs://dl-book/chapter-1/unet_256x256_planet_wo_indices_w_s1_w_elevation/validation/validation-00011-of-00038.tfrecord.gz...\n",
            "Copying gs://dl-book/chapter-1/unet_256x256_planet_wo_indices_w_s1_w_elevation/validation/validation-00012-of-00038.tfrecord.gz...\n",
            "Copying gs://dl-book/chapter-1/unet_256x256_planet_wo_indices_w_s1_w_elevation/validation/validation-00013-of-00038.tfrecord.gz...\n",
            "Copying gs://dl-book/chapter-1/unet_256x256_planet_wo_indices_w_s1_w_elevation/validation/validation-00014-of-00038.tfrecord.gz...\n",
            "Copying gs://dl-book/chapter-1/unet_256x256_planet_wo_indices_w_s1_w_elevation/validation/validation-00015-of-00038.tfrecord.gz...\n",
            "Copying gs://dl-book/chapter-1/unet_256x256_planet_wo_indices_w_s1_w_elevation/validation/validation-00016-of-00038.tfrecord.gz...\n",
            "Copying gs://dl-book/chapter-1/unet_256x256_planet_wo_indices_w_s1_w_elevation/validation/validation-00017-of-00038.tfrecord.gz...\n",
            "Copying gs://dl-book/chapter-1/unet_256x256_planet_wo_indices_w_s1_w_elevation/validation/validation-00018-of-00038.tfrecord.gz...\n",
            "Copying gs://dl-book/chapter-1/unet_256x256_planet_wo_indices_w_s1_w_elevation/validation/validation-00019-of-00038.tfrecord.gz...\n",
            "Copying gs://dl-book/chapter-1/unet_256x256_planet_wo_indices_w_s1_w_elevation/validation/validation-00020-of-00038.tfrecord.gz...\n",
            "Copying gs://dl-book/chapter-1/unet_256x256_planet_wo_indices_w_s1_w_elevation/validation/validation-00021-of-00038.tfrecord.gz...\n",
            "Copying gs://dl-book/chapter-1/unet_256x256_planet_wo_indices_w_s1_w_elevation/validation/validation-00022-of-00038.tfrecord.gz...\n",
            "Copying gs://dl-book/chapter-1/unet_256x256_planet_wo_indices_w_s1_w_elevation/validation/validation-00023-of-00038.tfrecord.gz...\n",
            "Copying gs://dl-book/chapter-1/unet_256x256_planet_wo_indices_w_s1_w_elevation/validation/validation-00024-of-00038.tfrecord.gz...\n",
            "Copying gs://dl-book/chapter-1/unet_256x256_planet_wo_indices_w_s1_w_elevation/validation/validation-00025-of-00038.tfrecord.gz...\n",
            "Copying gs://dl-book/chapter-1/unet_256x256_planet_wo_indices_w_s1_w_elevation/validation/validation-00026-of-00038.tfrecord.gz...\n",
            "Copying gs://dl-book/chapter-1/unet_256x256_planet_wo_indices_w_s1_w_elevation/validation/validation-00027-of-00038.tfrecord.gz...\n",
            "Copying gs://dl-book/chapter-1/unet_256x256_planet_wo_indices_w_s1_w_elevation/validation/validation-00028-of-00038.tfrecord.gz...\n",
            "Copying gs://dl-book/chapter-1/unet_256x256_planet_wo_indices_w_s1_w_elevation/validation/validation-00029-of-00038.tfrecord.gz...\n",
            "Copying gs://dl-book/chapter-1/unet_256x256_planet_wo_indices_w_s1_w_elevation/validation/validation-00030-of-00038.tfrecord.gz...\n",
            "Copying gs://dl-book/chapter-1/unet_256x256_planet_wo_indices_w_s1_w_elevation/validation/validation-00031-of-00038.tfrecord.gz...\n",
            "Copying gs://dl-book/chapter-1/unet_256x256_planet_wo_indices_w_s1_w_elevation/validation/validation-00032-of-00038.tfrecord.gz...\n",
            "Copying gs://dl-book/chapter-1/unet_256x256_planet_wo_indices_w_s1_w_elevation/validation/validation-00033-of-00038.tfrecord.gz...\n",
            "Copying gs://dl-book/chapter-1/unet_256x256_planet_wo_indices_w_s1_w_elevation/validation/validation-00034-of-00038.tfrecord.gz...\n",
            "Copying gs://dl-book/chapter-1/unet_256x256_planet_wo_indices_w_s1_w_elevation/validation/validation-00035-of-00038.tfrecord.gz...\n",
            "Copying gs://dl-book/chapter-1/unet_256x256_planet_wo_indices_w_s1_w_elevation/validation/validation-00036-of-00038.tfrecord.gz...\n",
            "Copying gs://dl-book/chapter-1/unet_256x256_planet_wo_indices_w_s1_w_elevation/validation/validation-00037-of-00038.tfrecord.gz...\n"
          ]
        }
      ]
    },
    {
      "cell_type": "markdown",
      "source": [
        "We will use the `unet_256x256_planet_wo_indices_w_s1_w_elevation` dataset inside the `dataset` folder for this exercise. Let's go ahead and change our DATADIR in the `config.env` file as below.\n",
        "\n",
        "```\n",
        "DATADIR = \"datasets/unet_256x256_planet_wo_indices_w_s1_w_elevation\"\n",
        "```"
      ],
      "metadata": {
        "id": "Orc9Qcb3shcu"
      }
    },
    {
      "cell_type": "markdown",
      "source": [
        "These datasets have RGBN from Planetscope mosiac. Since we are trying to map the rice fields, we use growing season and pre-growing season information. Thus, we have 8 optical bands, namely `red_before`, `green_before`, `blue_before`, `nir_before`, `red_during`, `green_during`, `blue_during`, and  `nir_during`. In adidition, you can use `USE_ELEVATION` and `USE_S1` config to include the topographic and radar information. These datasets have toppgraphic and radar features, so we set these config values to True. Similarly, these datasets are tiled to 256x256 pixels, so let's also change that.\n",
        "\n",
        "```\n",
        "# For model training, USE_ELEVATION extends FEATURES with \"elevation\" & \"slope\"\n",
        "# USE_S1 extends FEATURES with \"vv_asc_before\", \"vh_asc_before\", \"vv_asc_during\", \"vh_asc_during\",\n",
        "# \"vv_desc_before\", \"vh_desc_before\", \"vv_desc_during\", \"vh_desc_during\"\n",
        "# In case these are not useful and you have other bands in your training data, you can do set\n",
        "# USE_ELEVATION and USE_S1 to False and update FEATURES to include needed bands\n",
        "USE_ELEVATION = True\n",
        "USE_S1 = True\n",
        "\n",
        "PATCH_SHAPE = (256, 256)\n",
        "```"
      ],
      "metadata": {
        "id": "CEDUshfUi1OY"
      }
    },
    {
      "cell_type": "markdown",
      "source": [
        "Next, we need to calculate the size of the traiing, testing and validation dataset. For this, we know our size before hand. But let's use `aces` useful functionality to calculate this.\n",
        "\n",
        "```\n",
        "# Sizes of the training and evaluation datasets.\n",
        "TRAIN_SIZE = 7700\n",
        "TEST_SIZE = 1213\n",
        "VAL_SIZE = 2404\n",
        "```"
      ],
      "metadata": {
        "id": "p6NF86anh-pS"
      }
    },
    {
      "cell_type": "code",
      "source": [
        "from aces import Config\n",
        "from aces import DataProcessor"
      ],
      "metadata": {
        "id": "AWToBRVmqkok"
      },
      "execution_count": null,
      "outputs": []
    },
    {
      "cell_type": "code",
      "source": [
        "config_file = \"/content/servir-aces/config.env\"\n",
        "config = Config(config_file)"
      ],
      "metadata": {
        "colab": {
          "base_uri": "https://localhost:8080/"
        },
        "id": "_0zB2echioW0",
        "outputId": "e818f566-edc7-4e98-f8fc-633fad8a11ae"
      },
      "execution_count": null,
      "outputs": [
        {
          "output_type": "stream",
          "name": "stdout",
          "text": [
            "BASEDIR: /content\n",
            "DATADIR: /content/datasets/unet_256x256_planet_wo_indices_w_s1_w_elevation\n",
            "using features: ['red_before', 'green_before', 'blue_before', 'nir_before', 'red_during', 'green_during', 'blue_during', 'nir_during', 'elevation', 'slope', 'vv_asc_before', 'vh_asc_before', 'vv_asc_during', 'vh_asc_during', 'vv_desc_before', 'vh_desc_before', 'vv_desc_during', 'vh_desc_during']\n",
            "using labels: ['class']\n"
          ]
        }
      ]
    },
    {
      "cell_type": "markdown",
      "source": [
        "Most of the config in the `config.env` is now available via the config instance. Let's check few of them here."
      ],
      "metadata": {
        "id": "yPKv3W5crsf1"
      }
    },
    {
      "cell_type": "code",
      "source": [
        "config.TRAINING_DIR, config.BATCH_SIZE"
      ],
      "metadata": {
        "colab": {
          "base_uri": "https://localhost:8080/"
        },
        "id": "0dgS1btomEqO",
        "outputId": "0da96315-81b6-485b-a8bb-7a5c7fb9741c"
      },
      "execution_count": null,
      "outputs": [
        {
          "output_type": "execute_result",
          "data": {
            "text/plain": [
              "(PosixPath('/content/datasets/unet_256x256_planet_wo_indices_w_s1_w_elevation/training'),\n",
              " 64)"
            ]
          },
          "metadata": {},
          "execution_count": 3
        }
      ]
    },
    {
      "cell_type": "code",
      "source": [
        "%%time\n",
        "additional_config = {\n",
        "    \"PRINT_DATASET\": True\n",
        "}\n",
        "n_training_records, n_testing_records, n_validation_records = DataProcessor.calculate_n_samples(**{**config.__dict__, **additional_config})\n"
      ],
      "metadata": {
        "colab": {
          "base_uri": "https://localhost:8080/"
        },
        "id": "2b9Gm_VSixBz",
        "outputId": "57ac0edf-4c77-4ee7-cb04-6819685f7cfe"
      },
      "execution_count": null,
      "outputs": [
        {
          "output_type": "stream",
          "name": "stdout",
          "text": [
            "Training\n",
            "inputs: float32 (256, 256, 18)\n",
            "tf.Tensor(\n",
            "[[[0.04035    0.0461     0.0259     ... 0.377637   0.33858082 0.34278086]\n",
            "  [0.03675    0.044525   0.02385    ... 0.39470226 0.34890598 0.36348763]\n",
            "  [0.0288     0.039725   0.022375   ... 0.40031958 0.3710302  0.3598775 ]\n",
            "  ...\n",
            "  [0.029625   0.044825   0.02755    ... 0.39187974 0.3469983  0.35823953]\n",
            "  [0.027825   0.0424     0.0271     ... 0.3977692  0.35484934 0.3561558 ]\n",
            "  [0.029975   0.046125   0.0272     ... 0.3897629  0.34793046 0.3612652 ]]\n",
            "\n",
            " [[0.0328     0.0432     0.0236     ... 0.3565247  0.326676   0.3392466 ]\n",
            "  [0.0273     0.039525   0.0219     ... 0.3696133  0.3394726  0.3389661 ]\n",
            "  [0.0321     0.04045    0.02235    ... 0.38849342 0.3522428  0.34435618]\n",
            "  ...\n",
            "  [0.029825   0.0453     0.02725    ... 0.38274664 0.3548652  0.3568154 ]\n",
            "  [0.0305     0.04465    0.0276     ... 0.3804215  0.3527327  0.35734817]\n",
            "  [0.03075    0.047175   0.027475   ... 0.3873024  0.3411553  0.35897118]]\n",
            "\n",
            " [[0.029575   0.04125    0.02265    ... 0.35600638 0.32768017 0.3351085 ]\n",
            "  [0.024      0.038475   0.02175    ... 0.35213467 0.33999202 0.33564687]\n",
            "  [0.031825   0.0415     0.0228     ... 0.35173544 0.34676367 0.34813944]\n",
            "  ...\n",
            "  [0.030975   0.04515    0.027625   ... 0.3728842  0.35891178 0.35313594]\n",
            "  [0.03175    0.046125   0.0285     ... 0.3828064  0.35012007 0.34616706]\n",
            "  [0.0317     0.048      0.0282     ... 0.38224873 0.34888852 0.358534  ]]\n",
            "\n",
            " ...\n",
            "\n",
            " [[0.09805    0.09635    0.074375   ... 0.3042141  0.34973758 0.2959293 ]\n",
            "  [0.0949     0.088425   0.072575   ... 0.2776988  0.3576678  0.29544726]\n",
            "  [0.0947     0.091025   0.071425   ... 0.3008398  0.35685968 0.29267144]\n",
            "  ...\n",
            "  [0.07875    0.069325   0.04305    ... 0.35057184 0.35048017 0.33720997]\n",
            "  [0.072325   0.068075   0.043      ... 0.34048486 0.3390956  0.31006554]\n",
            "  [0.06735    0.062125   0.03735    ... 0.34581366 0.3481003  0.30052152]]\n",
            "\n",
            " [[0.092375   0.093225   0.0726     ... 0.2971519  0.35346258 0.3012525 ]\n",
            "  [0.094625   0.089775   0.0718     ... 0.28670502 0.3535094  0.29242396]\n",
            "  [0.094325   0.0928     0.07335    ... 0.27801794 0.35816422 0.29480937]\n",
            "  ...\n",
            "  [0.111025   0.088825   0.062725   ... 0.34925643 0.36508203 0.33717284]\n",
            "  [0.099925   0.0841     0.05815    ... 0.33436915 0.3460476  0.31062713]\n",
            "  [0.091975   0.08135    0.056225   ... 0.351147   0.36973158 0.30103147]]\n",
            "\n",
            " [[0.092575   0.090825   0.069      ... 0.2937881  0.3413521  0.2821212 ]\n",
            "  [0.092725   0.090775   0.067725   ... 0.2917037  0.34462327 0.3041173 ]\n",
            "  [0.095      0.094375   0.07145    ... 0.2820641  0.34007657 0.3033039 ]\n",
            "  ...\n",
            "  [0.117025   0.09645    0.0705     ... 0.3528339  0.37093353 0.33291793]\n",
            "  [0.10465    0.08295    0.060175   ... 0.3575997  0.34336424 0.3089995 ]\n",
            "  [0.097475   0.0948     0.0681     ... 0.35439342 0.35835052 0.31213883]]], shape=(256, 256, 18), dtype=float32)\n",
            "outputs: float32 (256, 256, 5)\n",
            "tf.Tensor(\n",
            "[[[1. 0. 0. 0. 0.]\n",
            "  [1. 0. 0. 0. 0.]\n",
            "  [1. 0. 0. 0. 0.]\n",
            "  ...\n",
            "  [0. 0. 1. 0. 0.]\n",
            "  [0. 0. 1. 0. 0.]\n",
            "  [0. 0. 1. 0. 0.]]\n",
            "\n",
            " [[1. 0. 0. 0. 0.]\n",
            "  [1. 0. 0. 0. 0.]\n",
            "  [1. 0. 0. 0. 0.]\n",
            "  ...\n",
            "  [0. 0. 1. 0. 0.]\n",
            "  [0. 0. 1. 0. 0.]\n",
            "  [0. 0. 1. 0. 0.]]\n",
            "\n",
            " [[1. 0. 0. 0. 0.]\n",
            "  [1. 0. 0. 0. 0.]\n",
            "  [1. 0. 0. 0. 0.]\n",
            "  ...\n",
            "  [0. 0. 1. 0. 0.]\n",
            "  [0. 0. 1. 0. 0.]\n",
            "  [0. 0. 1. 0. 0.]]\n",
            "\n",
            " ...\n",
            "\n",
            " [[0. 1. 0. 0. 0.]\n",
            "  [0. 1. 0. 0. 0.]\n",
            "  [0. 1. 0. 0. 0.]\n",
            "  ...\n",
            "  [1. 0. 0. 0. 0.]\n",
            "  [1. 0. 0. 0. 0.]\n",
            "  [1. 0. 0. 0. 0.]]\n",
            "\n",
            " [[0. 1. 0. 0. 0.]\n",
            "  [0. 1. 0. 0. 0.]\n",
            "  [0. 1. 0. 0. 0.]\n",
            "  ...\n",
            "  [0. 0. 0. 1. 0.]\n",
            "  [0. 0. 0. 1. 0.]\n",
            "  [0. 0. 1. 0. 0.]]\n",
            "\n",
            " [[0. 1. 0. 0. 0.]\n",
            "  [0. 1. 0. 0. 0.]\n",
            "  [0. 1. 0. 0. 0.]\n",
            "  ...\n",
            "  [0. 0. 0. 1. 0.]\n",
            "  [0. 0. 0. 1. 0.]\n",
            "  [0. 0. 0. 1. 0.]]], shape=(256, 256, 5), dtype=float32)\n"
          ]
        },
        {
          "output_type": "stream",
          "name": "stderr",
          "text": [
            "WARNING:tensorflow:From /usr/local/lib/python3.10/dist-packages/aces/data_processor.py:55: ignore_errors (from tensorflow.python.data.experimental.ops.error_ops) is deprecated and will be removed in a future version.\n",
            "Instructions for updating:\n",
            "Use `tf.data.Dataset.ignore_errors` instead.\n"
          ]
        },
        {
          "output_type": "stream",
          "name": "stdout",
          "text": [
            "CPU times: user 7min 15s, sys: 22.7 s, total: 7min 38s\n",
            "Wall time: 7min 57s\n"
          ]
        }
      ]
    },
    {
      "cell_type": "code",
      "source": [
        "print(f\"no of training records: {n_training_records}\")\n",
        "print(f\"no of testing records: {n_testing_records}\")\n",
        "print(f\"no of validation records: {n_validation_records}\")"
      ],
      "metadata": {
        "colab": {
          "base_uri": "https://localhost:8080/"
        },
        "id": "I1v6DU2umAzp",
        "outputId": "4c16122a-4e18-4935-ebba-d8f06528faa9"
      },
      "execution_count": null,
      "outputs": [
        {
          "output_type": "stream",
          "name": "stdout",
          "text": [
            "no of training records: 7700\n",
            "no of testing records: 1213\n",
            "no of validation records: 2404\n"
          ]
        }
      ]
    },
    {
      "cell_type": "code",
      "execution_count": null,
      "metadata": {
        "id": "NI3DZXi8Po4j"
      },
      "outputs": [],
      "source": []
    }
  ],
  "metadata": {
    "colab": {
      "provenance": [],
      "gpuType": "T4"
    },
    "kernelspec": {
      "display_name": "Python 3",
      "name": "python3"
    },
    "accelerator": "GPU"
  },
  "nbformat": 4,
  "nbformat_minor": 0
}